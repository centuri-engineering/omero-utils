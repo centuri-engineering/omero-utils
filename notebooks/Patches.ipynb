{
 "cells": [
  {
   "cell_type": "code",
   "execution_count": 1,
   "metadata": {},
   "outputs": [],
   "source": [
    "import sys\n",
    "sys.path.append('..')\n",
    "from pathlib import Path\n",
    "import pandas as pd\n",
    "from omero_utils.widgets import ImageScatterViz\n"
   ]
  },
  {
   "cell_type": "code",
   "execution_count": 2,
   "metadata": {},
   "outputs": [],
   "source": [
    "data = pd.read_csv(\n",
    "    \"/home/guillaume/AmuBox/Shared/patches/20200504_3groups_l14_dimreduction.txt\",\n",
    "    index_col=0\n",
    ")\n",
    "data.index.name='Id'"
   ]
  },
  {
   "cell_type": "markdown",
   "metadata": {},
   "source": [
    "### Data post-treatment\n",
    "```py\n",
    "ids = data.apply(\n",
    "    lambda d : m.conn.getObject(\n",
    "        \"Image\",\n",
    "        attributes={\"name\": d[\"filename\"]}\n",
    "    ).id,\n",
    "    axis=1\n",
    ")\n",
    "data.set_index(ids, inplace=True)\n",
    "label_id = pd.Categorical(data['label'])\n",
    "data['label_id'] = label_id.codes\n",
    "```"
   ]
  },
  {
   "cell_type": "code",
   "execution_count": 3,
   "metadata": {
    "scrolled": false
   },
   "outputs": [
    {
     "data": {
      "application/vnd.jupyter.widget-view+json": {
       "model_id": "17f4079b573745e1b7f7b7783f3acae1",
       "version_major": 2,
       "version_minor": 0
      },
      "text/plain": [
       "ImageScatterViz(children=(OMEConnect(children=(Text(value='', description='OME loggin'), Password(description=…"
      ]
     },
     "metadata": {},
     "output_type": "display_data"
    },
    {
     "name": "stderr",
     "output_type": "stream",
     "text": [
      "WARNING:omero.gateway:ResourceError on <class 'omero.gateway.OmeroGatewaySafeCallWrapper'> to <ea4df361-aa39-4737-98f5-790dc1e0847fomero.api.ThumbnailStore> setPixelsId((18899, <ServiceOptsDict: {'omero.client.uuid': 'baf794e9-ee55-444e-9ffc-bfb0b0bc1f03', 'omero.session.uuid': '1ab5b034-3f8a-4522-8bf5-dbbb11a4dcbd', 'omero.group': '-1'}>), {})\n",
      "Traceback (most recent call last):\n",
      "  File \"/home/guillaume/miniconda3/envs/omero/lib/python3.7/site-packages/omero/gateway/__init__.py\", line 4746, in __call__\n",
      "    return self.f(*args, **kwargs)\n",
      "  File \"/home/guillaume/miniconda3/envs/omero/lib/python3.7/site-packages/omero_api_ThumbnailStore_ice.py\", line 391, in setPixelsId\n",
      "    return _M_omero.api.ThumbnailStore._op_setPixelsId.invoke(self, ((pixelsId, ), _ctx))\n",
      "omero.ResourceError: exception ::omero::ResourceError\n",
      "{\n",
      "    serverStackTrace = ome.conditions.ResourceError: Error retrieving Pixels id:18899. Pixels set does not exist or the user id:502 has insufficient permissions to retrieve it.\n",
      "\tat ome.services.ThumbnailCtx.getPixels(ThumbnailCtx.java:453)\n",
      "\tat ome.services.ThumbnailBean.setPixelsId(ThumbnailBean.java:292)\n",
      "\tat sun.reflect.GeneratedMethodAccessor1058.invoke(Unknown Source)\n",
      "\tat sun.reflect.DelegatingMethodAccessorImpl.invoke(DelegatingMethodAccessorImpl.java:43)\n",
      "\tat java.lang.reflect.Method.invoke(Method.java:498)\n",
      "\tat org.springframework.aop.support.AopUtils.invokeJoinpointUsingReflection(AopUtils.java:333)\n",
      "\tat org.springframework.aop.framework.ReflectiveMethodInvocation.invokeJoinpoint(ReflectiveMethodInvocation.java:190)\n",
      "\tat org.springframework.aop.framework.ReflectiveMethodInvocation.proceed(ReflectiveMethodInvocation.java:157)\n",
      "\tat ome.security.basic.EventHandler.invoke(EventHandler.java:154)\n",
      "\tat org.springframework.aop.framework.ReflectiveMethodInvocation.proceed(ReflectiveMethodInvocation.java:179)\n",
      "\tat ome.tools.hibernate.SessionHandler.doStateful(SessionHandler.java:216)\n",
      "\tat ome.tools.hibernate.SessionHandler.invoke(SessionHandler.java:200)\n",
      "\tat org.springframework.aop.framework.ReflectiveMethodInvocation.proceed(ReflectiveMethodInvocation.java:179)\n",
      "\tat org.springframework.transaction.interceptor.TransactionInterceptor$1.proceedWithInvocation(TransactionInterceptor.java:99)\n",
      "\tat org.springframework.transaction.interceptor.TransactionAspectSupport.invokeWithinTransaction(TransactionAspectSupport.java:282)\n",
      "\tat org.springframework.transaction.interceptor.TransactionInterceptor.invoke(TransactionInterceptor.java:96)\n",
      "\tat org.springframework.aop.framework.ReflectiveMethodInvocation.proceed(ReflectiveMethodInvocation.java:179)\n",
      "\tat ome.tools.hibernate.ProxyCleanupFilter$Interceptor.invoke(ProxyCleanupFilter.java:249)\n",
      "\tat org.springframework.aop.framework.ReflectiveMethodInvocation.proceed(ReflectiveMethodInvocation.java:179)\n",
      "\tat ome.services.util.ServiceHandler.invoke(ServiceHandler.java:121)\n",
      "\tat org.springframework.aop.framework.ReflectiveMethodInvocation.proceed(ReflectiveMethodInvocation.java:179)\n",
      "\tat org.springframework.aop.framework.JdkDynamicAopProxy.invoke(JdkDynamicAopProxy.java:213)\n",
      "\tat com.sun.proxy.$Proxy110.setPixelsId(Unknown Source)\n",
      "\tat sun.reflect.GeneratedMethodAccessor1058.invoke(Unknown Source)\n",
      "\tat sun.reflect.DelegatingMethodAccessorImpl.invoke(DelegatingMethodAccessorImpl.java:43)\n",
      "\tat java.lang.reflect.Method.invoke(Method.java:498)\n",
      "\tat org.springframework.aop.support.AopUtils.invokeJoinpointUsingReflection(AopUtils.java:333)\n",
      "\tat org.springframework.aop.framework.ReflectiveMethodInvocation.invokeJoinpoint(ReflectiveMethodInvocation.java:190)\n",
      "\tat org.springframework.aop.framework.ReflectiveMethodInvocation.proceed(ReflectiveMethodInvocation.java:157)\n",
      "\tat ome.security.basic.BasicSecurityWiring.invoke(BasicSecurityWiring.java:93)\n",
      "\tat org.springframework.aop.framework.ReflectiveMethodInvocation.proceed(ReflectiveMethodInvocation.java:179)\n",
      "\tat ome.services.blitz.fire.AopContextInitializer.invoke(AopContextInitializer.java:43)\n",
      "\tat org.springframework.aop.framework.ReflectiveMethodInvocation.proceed(ReflectiveMethodInvocation.java:179)\n",
      "\tat org.springframework.aop.framework.JdkDynamicAopProxy.invoke(JdkDynamicAopProxy.java:213)\n",
      "\tat com.sun.proxy.$Proxy110.setPixelsId(Unknown Source)\n",
      "\tat sun.reflect.NativeMethodAccessorImpl.invoke0(Native Method)\n",
      "\tat sun.reflect.NativeMethodAccessorImpl.invoke(NativeMethodAccessorImpl.java:62)\n",
      "\tat sun.reflect.DelegatingMethodAccessorImpl.invoke(DelegatingMethodAccessorImpl.java:43)\n",
      "\tat java.lang.reflect.Method.invoke(Method.java:498)\n",
      "\tat ome.services.blitz.util.IceMethodInvoker.invoke(IceMethodInvoker.java:172)\n",
      "\tat ome.services.throttling.Callback.run(Callback.java:56)\n",
      "\tat ome.services.throttling.InThreadThrottlingStrategy.callInvokerOnRawArgs(InThreadThrottlingStrategy.java:56)\n",
      "\tat ome.services.blitz.impl.AbstractAmdServant.callInvokerOnRawArgs(AbstractAmdServant.java:140)\n",
      "\tat ome.services.blitz.impl.ThumbnailStoreI.setPixelsId_async(ThumbnailStoreI.java:144)\n",
      "\tat sun.reflect.NativeMethodAccessorImpl.invoke0(Native Method)\n",
      "\tat sun.reflect.NativeMethodAccessorImpl.invoke(NativeMethodAccessorImpl.java:62)\n",
      "\tat sun.reflect.DelegatingMethodAccessorImpl.invoke(DelegatingMethodAccessorImpl.java:43)\n",
      "\tat java.lang.reflect.Method.invoke(Method.java:498)\n",
      "\tat org.springframework.aop.support.AopUtils.invokeJoinpointUsingReflection(AopUtils.java:333)\n",
      "\tat org.springframework.aop.framework.ReflectiveMethodInvocation.invokeJoinpoint(ReflectiveMethodInvocation.java:190)\n",
      "\tat org.springframework.aop.framework.ReflectiveMethodInvocation.proceed(ReflectiveMethodInvocation.java:157)\n",
      "\tat omero.cmd.CallContext.invoke(CallContext.java:85)\n",
      "\tat org.springframework.aop.framework.ReflectiveMethodInvocation.proceed(ReflectiveMethodInvocation.java:179)\n",
      "\tat org.springframework.aop.framework.JdkDynamicAopProxy.invoke(JdkDynamicAopProxy.java:213)\n",
      "\tat com.sun.proxy.$Proxy111.setPixelsId_async(Unknown Source)\n",
      "\tat omero.api._ThumbnailStoreTie.setPixelsId_async(_ThumbnailStoreTie.java:180)\n",
      "\tat omero.api._ThumbnailStoreDisp.___setPixelsId(_ThumbnailStoreDisp.java:492)\n",
      "\tat omero.api._ThumbnailStoreDisp.__dispatch(_ThumbnailStoreDisp.java:1058)\n",
      "\tat IceInternal.Incoming.invoke(Incoming.java:221)\n",
      "\tat Ice.ConnectionI.invokeAll(ConnectionI.java:2536)\n",
      "\tat Ice.ConnectionI.dispatch(ConnectionI.java:1145)\n",
      "\tat Ice.ConnectionI.message(ConnectionI.java:1056)\n",
      "\tat IceInternal.ThreadPool.run(ThreadPool.java:395)\n",
      "\tat IceInternal.ThreadPool.access$300(ThreadPool.java:12)\n",
      "\tat IceInternal.ThreadPool$EventHandlerThread.run(ThreadPool.java:832)\n",
      "\tat java.lang.Thread.run(Thread.java:748)\n",
      "\n",
      "    serverExceptionClass = ome.conditions.ResourceError\n",
      "    message = Error retrieving Pixels id:18899. Pixels set does not exist or the user id:502 has insufficient permissions to retrieve it.\n",
      "}\n"
     ]
    },
    {
     "ename": "NameError",
     "evalue": "name 'omero' is not defined",
     "output_type": "error",
     "traceback": [
      "\u001b[0;31m---------------------------------------------------------------------------\u001b[0m",
      "\u001b[0;31mResourceError\u001b[0m                             Traceback (most recent call last)",
      "\u001b[0;32m~/miniconda3/envs/omero/lib/python3.7/site-packages/omero_utils-0.0.1-py3.7.egg/omero_utils/widgets.py\u001b[0m in \u001b[0;36mget_thumb\u001b[0;34m(self, idx)\u001b[0m\n\u001b[1;32m    373\u001b[0m             \u001b[0;32mtry\u001b[0m\u001b[0;34m:\u001b[0m\u001b[0;34m\u001b[0m\u001b[0;34m\u001b[0m\u001b[0m\n\u001b[0;32m--> 374\u001b[0;31m                 \u001b[0mtb\u001b[0m\u001b[0;34m.\u001b[0m\u001b[0msetPixelsId\u001b[0m\u001b[0;34m(\u001b[0m\u001b[0midx\u001b[0m\u001b[0;34m,\u001b[0m \u001b[0mself\u001b[0m\u001b[0;34m.\u001b[0m\u001b[0mconn\u001b[0m\u001b[0;34m.\u001b[0m\u001b[0mSERVICE_OPTS\u001b[0m\u001b[0;34m)\u001b[0m\u001b[0;34m\u001b[0m\u001b[0;34m\u001b[0m\u001b[0m\n\u001b[0m\u001b[1;32m    375\u001b[0m                 \u001b[0mth\u001b[0m \u001b[0;34m=\u001b[0m \u001b[0mtb\u001b[0m\u001b[0;34m.\u001b[0m\u001b[0mgetThumbnailDirect\u001b[0m\u001b[0;34m(\u001b[0m\u001b[0mrint\u001b[0m\u001b[0;34m(\u001b[0m\u001b[0;36m128\u001b[0m\u001b[0;34m)\u001b[0m\u001b[0;34m,\u001b[0m \u001b[0mrint\u001b[0m\u001b[0;34m(\u001b[0m\u001b[0;36m128\u001b[0m\u001b[0;34m)\u001b[0m\u001b[0;34m,\u001b[0m \u001b[0mself\u001b[0m\u001b[0;34m.\u001b[0m\u001b[0mconn\u001b[0m\u001b[0;34m.\u001b[0m\u001b[0mSERVICE_OPTS\u001b[0m\u001b[0;34m)\u001b[0m\u001b[0;34m\u001b[0m\u001b[0;34m\u001b[0m\u001b[0m\n",
      "\u001b[0;32m~/miniconda3/envs/omero/lib/python3.7/site-packages/omero/gateway/__init__.py\u001b[0m in \u001b[0;36m__call__\u001b[0;34m(self, *args, **kwargs)\u001b[0m\n\u001b[1;32m   4748\u001b[0m             \u001b[0mself\u001b[0m\u001b[0;34m.\u001b[0m\u001b[0mdebug\u001b[0m\u001b[0;34m(\u001b[0m\u001b[0me\u001b[0m\u001b[0;34m.\u001b[0m\u001b[0m__class__\u001b[0m\u001b[0;34m.\u001b[0m\u001b[0m__name__\u001b[0m\u001b[0;34m,\u001b[0m \u001b[0margs\u001b[0m\u001b[0;34m,\u001b[0m \u001b[0mkwargs\u001b[0m\u001b[0;34m)\u001b[0m\u001b[0;34m\u001b[0m\u001b[0;34m\u001b[0m\u001b[0m\n\u001b[0;32m-> 4749\u001b[0;31m             \u001b[0;32mreturn\u001b[0m \u001b[0mself\u001b[0m\u001b[0;34m.\u001b[0m\u001b[0mhandle_exception\u001b[0m\u001b[0;34m(\u001b[0m\u001b[0me\u001b[0m\u001b[0;34m,\u001b[0m \u001b[0;34m*\u001b[0m\u001b[0margs\u001b[0m\u001b[0;34m,\u001b[0m \u001b[0;34m**\u001b[0m\u001b[0mkwargs\u001b[0m\u001b[0;34m)\u001b[0m\u001b[0;34m\u001b[0m\u001b[0;34m\u001b[0m\u001b[0m\n\u001b[0m\u001b[1;32m   4750\u001b[0m \u001b[0;34m\u001b[0m\u001b[0m\n",
      "\u001b[0;32m~/miniconda3/envs/omero/lib/python3.7/site-packages/omero/gateway/__init__.py\u001b[0m in \u001b[0;36m__call__\u001b[0;34m(self, *args, **kwargs)\u001b[0m\n\u001b[1;32m   4745\u001b[0m         \u001b[0;32mtry\u001b[0m\u001b[0;34m:\u001b[0m\u001b[0;34m\u001b[0m\u001b[0;34m\u001b[0m\u001b[0m\n\u001b[0;32m-> 4746\u001b[0;31m             \u001b[0;32mreturn\u001b[0m \u001b[0mself\u001b[0m\u001b[0;34m.\u001b[0m\u001b[0mf\u001b[0m\u001b[0;34m(\u001b[0m\u001b[0;34m*\u001b[0m\u001b[0margs\u001b[0m\u001b[0;34m,\u001b[0m \u001b[0;34m**\u001b[0m\u001b[0mkwargs\u001b[0m\u001b[0;34m)\u001b[0m\u001b[0;34m\u001b[0m\u001b[0;34m\u001b[0m\u001b[0m\n\u001b[0m\u001b[1;32m   4747\u001b[0m         \u001b[0;32mexcept\u001b[0m \u001b[0mException\u001b[0m \u001b[0;32mas\u001b[0m \u001b[0me\u001b[0m\u001b[0;34m:\u001b[0m\u001b[0;34m\u001b[0m\u001b[0;34m\u001b[0m\u001b[0m\n",
      "\u001b[0;32m~/miniconda3/envs/omero/lib/python3.7/site-packages/omero_api_ThumbnailStore_ice.py\u001b[0m in \u001b[0;36msetPixelsId\u001b[0;34m(self, pixelsId, _ctx)\u001b[0m\n\u001b[1;32m    390\u001b[0m         \u001b[0;32mdef\u001b[0m \u001b[0msetPixelsId\u001b[0m\u001b[0;34m(\u001b[0m\u001b[0mself\u001b[0m\u001b[0;34m,\u001b[0m \u001b[0mpixelsId\u001b[0m\u001b[0;34m,\u001b[0m \u001b[0m_ctx\u001b[0m\u001b[0;34m=\u001b[0m\u001b[0;32mNone\u001b[0m\u001b[0;34m)\u001b[0m\u001b[0;34m:\u001b[0m\u001b[0;34m\u001b[0m\u001b[0;34m\u001b[0m\u001b[0m\n\u001b[0;32m--> 391\u001b[0;31m             \u001b[0;32mreturn\u001b[0m \u001b[0m_M_omero\u001b[0m\u001b[0;34m.\u001b[0m\u001b[0mapi\u001b[0m\u001b[0;34m.\u001b[0m\u001b[0mThumbnailStore\u001b[0m\u001b[0;34m.\u001b[0m\u001b[0m_op_setPixelsId\u001b[0m\u001b[0;34m.\u001b[0m\u001b[0minvoke\u001b[0m\u001b[0;34m(\u001b[0m\u001b[0mself\u001b[0m\u001b[0;34m,\u001b[0m \u001b[0;34m(\u001b[0m\u001b[0;34m(\u001b[0m\u001b[0mpixelsId\u001b[0m\u001b[0;34m,\u001b[0m \u001b[0;34m)\u001b[0m\u001b[0;34m,\u001b[0m \u001b[0m_ctx\u001b[0m\u001b[0;34m)\u001b[0m\u001b[0;34m)\u001b[0m\u001b[0;34m\u001b[0m\u001b[0;34m\u001b[0m\u001b[0m\n\u001b[0m\u001b[1;32m    392\u001b[0m \u001b[0;34m\u001b[0m\u001b[0m\n",
      "\u001b[0;31mResourceError\u001b[0m: exception ::omero::ResourceError\n{\n    serverStackTrace = ome.conditions.ResourceError: Error retrieving Pixels id:18899. Pixels set does not exist or the user id:502 has insufficient permissions to retrieve it.\n\tat ome.services.ThumbnailCtx.getPixels(ThumbnailCtx.java:453)\n\tat ome.services.ThumbnailBean.setPixelsId(ThumbnailBean.java:292)\n\tat sun.reflect.GeneratedMethodAccessor1058.invoke(Unknown Source)\n\tat sun.reflect.DelegatingMethodAccessorImpl.invoke(DelegatingMethodAccessorImpl.java:43)\n\tat java.lang.reflect.Method.invoke(Method.java:498)\n\tat org.springframework.aop.support.AopUtils.invokeJoinpointUsingReflection(AopUtils.java:333)\n\tat org.springframework.aop.framework.ReflectiveMethodInvocation.invokeJoinpoint(ReflectiveMethodInvocation.java:190)\n\tat org.springframework.aop.framework.ReflectiveMethodInvocation.proceed(ReflectiveMethodInvocation.java:157)\n\tat ome.security.basic.EventHandler.invoke(EventHandler.java:154)\n\tat org.springframework.aop.framework.ReflectiveMethodInvocation.proceed(ReflectiveMethodInvocation.java:179)\n\tat ome.tools.hibernate.SessionHandler.doStateful(SessionHandler.java:216)\n\tat ome.tools.hibernate.SessionHandler.invoke(SessionHandler.java:200)\n\tat org.springframework.aop.framework.ReflectiveMethodInvocation.proceed(ReflectiveMethodInvocation.java:179)\n\tat org.springframework.transaction.interceptor.TransactionInterceptor$1.proceedWithInvocation(TransactionInterceptor.java:99)\n\tat org.springframework.transaction.interceptor.TransactionAspectSupport.invokeWithinTransaction(TransactionAspectSupport.java:282)\n\tat org.springframework.transaction.interceptor.TransactionInterceptor.invoke(TransactionInterceptor.java:96)\n\tat org.springframework.aop.framework.ReflectiveMethodInvocation.proceed(ReflectiveMethodInvocation.java:179)\n\tat ome.tools.hibernate.ProxyCleanupFilter$Interceptor.invoke(ProxyCleanupFilter.java:249)\n\tat org.springframework.aop.framework.ReflectiveMethodInvocation.proceed(ReflectiveMethodInvocation.java:179)\n\tat ome.services.util.ServiceHandler.invoke(ServiceHandler.java:121)\n\tat org.springframework.aop.framework.ReflectiveMethodInvocation.proceed(ReflectiveMethodInvocation.java:179)\n\tat org.springframework.aop.framework.JdkDynamicAopProxy.invoke(JdkDynamicAopProxy.java:213)\n\tat com.sun.proxy.$Proxy110.setPixelsId(Unknown Source)\n\tat sun.reflect.GeneratedMethodAccessor1058.invoke(Unknown Source)\n\tat sun.reflect.DelegatingMethodAccessorImpl.invoke(DelegatingMethodAccessorImpl.java:43)\n\tat java.lang.reflect.Method.invoke(Method.java:498)\n\tat org.springframework.aop.support.AopUtils.invokeJoinpointUsingReflection(AopUtils.java:333)\n\tat org.springframework.aop.framework.ReflectiveMethodInvocation.invokeJoinpoint(ReflectiveMethodInvocation.java:190)\n\tat org.springframework.aop.framework.ReflectiveMethodInvocation.proceed(ReflectiveMethodInvocation.java:157)\n\tat ome.security.basic.BasicSecurityWiring.invoke(BasicSecurityWiring.java:93)\n\tat org.springframework.aop.framework.ReflectiveMethodInvocation.proceed(ReflectiveMethodInvocation.java:179)\n\tat ome.services.blitz.fire.AopContextInitializer.invoke(AopContextInitializer.java:43)\n\tat org.springframework.aop.framework.ReflectiveMethodInvocation.proceed(ReflectiveMethodInvocation.java:179)\n\tat org.springframework.aop.framework.JdkDynamicAopProxy.invoke(JdkDynamicAopProxy.java:213)\n\tat com.sun.proxy.$Proxy110.setPixelsId(Unknown Source)\n\tat sun.reflect.NativeMethodAccessorImpl.invoke0(Native Method)\n\tat sun.reflect.NativeMethodAccessorImpl.invoke(NativeMethodAccessorImpl.java:62)\n\tat sun.reflect.DelegatingMethodAccessorImpl.invoke(DelegatingMethodAccessorImpl.java:43)\n\tat java.lang.reflect.Method.invoke(Method.java:498)\n\tat ome.services.blitz.util.IceMethodInvoker.invoke(IceMethodInvoker.java:172)\n\tat ome.services.throttling.Callback.run(Callback.java:56)\n\tat ome.services.throttling.InThreadThrottlingStrategy.callInvokerOnRawArgs(InThreadThrottlingStrategy.java:56)\n\tat ome.services.blitz.impl.AbstractAmdServant.callInvokerOnRawArgs(AbstractAmdServant.java:140)\n\tat ome.services.blitz.impl.ThumbnailStoreI.setPixelsId_async(ThumbnailStoreI.java:144)\n\tat sun.reflect.NativeMethodAccessorImpl.invoke0(Native Method)\n\tat sun.reflect.NativeMethodAccessorImpl.invoke(NativeMethodAccessorImpl.java:62)\n\tat sun.reflect.DelegatingMethodAccessorImpl.invoke(DelegatingMethodAccessorImpl.java:43)\n\tat java.lang.reflect.Method.invoke(Method.java:498)\n\tat org.springframework.aop.support.AopUtils.invokeJoinpointUsingReflection(AopUtils.java:333)\n\tat org.springframework.aop.framework.ReflectiveMethodInvocation.invokeJoinpoint(ReflectiveMethodInvocation.java:190)\n\tat org.springframework.aop.framework.ReflectiveMethodInvocation.proceed(ReflectiveMethodInvocation.java:157)\n\tat omero.cmd.CallContext.invoke(CallContext.java:85)\n\tat org.springframework.aop.framework.ReflectiveMethodInvocation.proceed(ReflectiveMethodInvocation.java:179)\n\tat org.springframework.aop.framework.JdkDynamicAopProxy.invoke(JdkDynamicAopProxy.java:213)\n\tat com.sun.proxy.$Proxy111.setPixelsId_async(Unknown Source)\n\tat omero.api._ThumbnailStoreTie.setPixelsId_async(_ThumbnailStoreTie.java:180)\n\tat omero.api._ThumbnailStoreDisp.___setPixelsId(_ThumbnailStoreDisp.java:492)\n\tat omero.api._ThumbnailStoreDisp.__dispatch(_ThumbnailStoreDisp.java:1058)\n\tat IceInternal.Incoming.invoke(Incoming.java:221)\n\tat Ice.ConnectionI.invokeAll(ConnectionI.java:2536)\n\tat Ice.ConnectionI.dispatch(ConnectionI.java:1145)\n\tat Ice.ConnectionI.message(ConnectionI.java:1056)\n\tat IceInternal.ThreadPool.run(ThreadPool.java:395)\n\tat IceInternal.ThreadPool.access$300(ThreadPool.java:12)\n\tat IceInternal.ThreadPool$EventHandlerThread.run(ThreadPool.java:832)\n\tat java.lang.Thread.run(Thread.java:748)\n\n    serverExceptionClass = ome.conditions.ResourceError\n    message = Error retrieving Pixels id:18899. Pixels set does not exist or the user id:502 has insufficient permissions to retrieve it.\n}",
      "\nDuring handling of the above exception, another exception occurred:\n",
      "\u001b[0;31mNameError\u001b[0m                                 Traceback (most recent call last)",
      "\u001b[0;32m~/miniconda3/envs/omero/lib/python3.7/site-packages/omero_utils-0.0.1-py3.7.egg/omero_utils/widgets.py\u001b[0m in \u001b[0;36mgoto_db\u001b[0;34m(self, cbk, target)\u001b[0m\n\u001b[1;32m    385\u001b[0m     \u001b[0;32mdef\u001b[0m \u001b[0mgoto_db\u001b[0m\u001b[0;34m(\u001b[0m\u001b[0mself\u001b[0m\u001b[0;34m,\u001b[0m \u001b[0mcbk\u001b[0m\u001b[0;34m,\u001b[0m \u001b[0mtarget\u001b[0m\u001b[0;34m)\u001b[0m\u001b[0;34m:\u001b[0m\u001b[0;34m\u001b[0m\u001b[0;34m\u001b[0m\u001b[0m\n\u001b[1;32m    386\u001b[0m         \u001b[0mname\u001b[0m \u001b[0;34m=\u001b[0m \u001b[0mtarget\u001b[0m\u001b[0;34m[\u001b[0m\u001b[0;34m\"data\"\u001b[0m\u001b[0;34m]\u001b[0m\u001b[0;34m[\u001b[0m\u001b[0;34m\"name\"\u001b[0m\u001b[0;34m]\u001b[0m\u001b[0;34m\u001b[0m\u001b[0;34m\u001b[0m\u001b[0m\n\u001b[0;32m--> 387\u001b[0;31m         \u001b[0mhtml_\u001b[0m \u001b[0;34m=\u001b[0m \u001b[0mself\u001b[0m\u001b[0;34m.\u001b[0m\u001b[0mget_thumb\u001b[0m\u001b[0;34m(\u001b[0m\u001b[0mname\u001b[0m\u001b[0;34m)\u001b[0m\u001b[0;34m\u001b[0m\u001b[0;34m\u001b[0m\u001b[0m\n\u001b[0m\u001b[1;32m    388\u001b[0m \u001b[0;34m\u001b[0m\u001b[0m\n\u001b[1;32m    389\u001b[0m         \u001b[0murl\u001b[0m \u001b[0;34m=\u001b[0m \u001b[0;34mf\"\"\"https://{self.conn.host}:{self.port}/webclient/img_detail/{name}/\"\"\"\u001b[0m\u001b[0;34m\u001b[0m\u001b[0;34m\u001b[0m\u001b[0m\n",
      "\u001b[0;32m~/miniconda3/envs/omero/lib/python3.7/site-packages/omero_utils-0.0.1-py3.7.egg/omero_utils/widgets.py\u001b[0m in \u001b[0;36mget_thumb\u001b[0;34m(self, idx)\u001b[0m\n\u001b[1;32m    376\u001b[0m                 \u001b[0mth\u001b[0m \u001b[0;34m=\u001b[0m \u001b[0mbase64\u001b[0m\u001b[0;34m.\u001b[0m\u001b[0mb64encode\u001b[0m\u001b[0;34m(\u001b[0m\u001b[0mth\u001b[0m\u001b[0;34m)\u001b[0m\u001b[0;34m.\u001b[0m\u001b[0mdecode\u001b[0m\u001b[0;34m(\u001b[0m\u001b[0;34m\"utf-8\"\u001b[0m\u001b[0;34m)\u001b[0m\u001b[0;34m\u001b[0m\u001b[0;34m\u001b[0m\u001b[0m\n\u001b[1;32m    377\u001b[0m                 \u001b[0mthumb\u001b[0m \u001b[0;34m=\u001b[0m \u001b[0;34mf'{tag_start}{th}\">'\u001b[0m\u001b[0;34m\u001b[0m\u001b[0;34m\u001b[0m\u001b[0m\n\u001b[0;32m--> 378\u001b[0;31m             \u001b[0;32mexcept\u001b[0m \u001b[0momero\u001b[0m\u001b[0;34m.\u001b[0m\u001b[0mResourceError\u001b[0m\u001b[0;34m:\u001b[0m\u001b[0;34m\u001b[0m\u001b[0;34m\u001b[0m\u001b[0m\n\u001b[0m\u001b[1;32m    379\u001b[0m                 \u001b[0mthumb\u001b[0m \u001b[0;34m=\u001b[0m \u001b[0;34m\"<p>Image not reachable</p>\"\u001b[0m\u001b[0;34m\u001b[0m\u001b[0;34m\u001b[0m\u001b[0m\n\u001b[1;32m    380\u001b[0m \u001b[0;34m\u001b[0m\u001b[0m\n",
      "\u001b[0;31mNameError\u001b[0m: name 'omero' is not defined"
     ]
    }
   ],
   "source": [
    "ImageScatterViz(data, x=\"umap1\", y=\"umap2\", c=\"label_id\", host=\"139.124.86.50\")"
   ]
  },
  {
   "cell_type": "code",
   "execution_count": null,
   "metadata": {},
   "outputs": [],
   "source": []
  }
 ],
 "metadata": {
  "kernelspec": {
   "display_name": "Python 3",
   "language": "python",
   "name": "python3"
  },
  "language_info": {
   "codemirror_mode": {
    "name": "ipython",
    "version": 3
   },
   "file_extension": ".py",
   "mimetype": "text/x-python",
   "name": "python",
   "nbconvert_exporter": "python",
   "pygments_lexer": "ipython3",
   "version": "3.7.7"
  }
 },
 "nbformat": 4,
 "nbformat_minor": 4
}
