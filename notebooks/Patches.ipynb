{
 "cells": [
  {
   "cell_type": "code",
   "execution_count": 5,
   "metadata": {},
   "outputs": [],
   "source": [
    "import sys\n",
    "sys.path.append('..')\n",
    "from pathlib import Path\n",
    "import pandas as pd\n",
    "from omero_utils.widgets import ImageScatterViz\n"
   ]
  },
  {
   "cell_type": "code",
   "execution_count": 14,
   "metadata": {},
   "outputs": [
    {
     "data": {
      "text/html": [
       "<div>\n",
       "<style scoped>\n",
       "    .dataframe tbody tr th:only-of-type {\n",
       "        vertical-align: middle;\n",
       "    }\n",
       "\n",
       "    .dataframe tbody tr th {\n",
       "        vertical-align: top;\n",
       "    }\n",
       "\n",
       "    .dataframe thead th {\n",
       "        text-align: right;\n",
       "    }\n",
       "</style>\n",
       "<table border=\"1\" class=\"dataframe\">\n",
       "  <thead>\n",
       "    <tr style=\"text-align: right;\">\n",
       "      <th></th>\n",
       "      <th>label</th>\n",
       "      <th>umap1</th>\n",
       "      <th>umap2</th>\n",
       "      <th>pca1</th>\n",
       "      <th>pca2</th>\n",
       "      <th>pca3</th>\n",
       "      <th>tsne1</th>\n",
       "      <th>tsne2</th>\n",
       "      <th>id</th>\n",
       "      <th>filename</th>\n",
       "      <th>label_id</th>\n",
       "    </tr>\n",
       "    <tr>\n",
       "      <th>Id</th>\n",
       "      <th></th>\n",
       "      <th></th>\n",
       "      <th></th>\n",
       "      <th></th>\n",
       "      <th></th>\n",
       "      <th></th>\n",
       "      <th></th>\n",
       "      <th></th>\n",
       "      <th></th>\n",
       "      <th></th>\n",
       "      <th></th>\n",
       "    </tr>\n",
       "  </thead>\n",
       "  <tbody>\n",
       "    <tr>\n",
       "      <th>18934</th>\n",
       "      <td>dsb_ori</td>\n",
       "      <td>-24.996199</td>\n",
       "      <td>-9.605750</td>\n",
       "      <td>1.211045</td>\n",
       "      <td>-5.524436</td>\n",
       "      <td>-1.232248</td>\n",
       "      <td>-9.225296</td>\n",
       "      <td>4.219704</td>\n",
       "      <td>0</td>\n",
       "      <td>dsb_ori__000.tif</td>\n",
       "      <td>1</td>\n",
       "    </tr>\n",
       "    <tr>\n",
       "      <th>20234</th>\n",
       "      <td>dsb_ori</td>\n",
       "      <td>-19.300940</td>\n",
       "      <td>-8.584076</td>\n",
       "      <td>7.803566</td>\n",
       "      <td>8.098953</td>\n",
       "      <td>-1.003049</td>\n",
       "      <td>14.074796</td>\n",
       "      <td>-16.096227</td>\n",
       "      <td>1</td>\n",
       "      <td>dsb_ori__001.tif</td>\n",
       "      <td>1</td>\n",
       "    </tr>\n",
       "    <tr>\n",
       "      <th>19857</th>\n",
       "      <td>dsb_ori</td>\n",
       "      <td>-23.778135</td>\n",
       "      <td>-10.532851</td>\n",
       "      <td>7.545738</td>\n",
       "      <td>-3.317374</td>\n",
       "      <td>-8.881333</td>\n",
       "      <td>23.258246</td>\n",
       "      <td>-1.355110</td>\n",
       "      <td>2</td>\n",
       "      <td>dsb_ori__002.tif</td>\n",
       "      <td>1</td>\n",
       "    </tr>\n",
       "    <tr>\n",
       "      <th>18748</th>\n",
       "      <td>dsb_ori</td>\n",
       "      <td>-26.319363</td>\n",
       "      <td>-12.872843</td>\n",
       "      <td>-3.493646</td>\n",
       "      <td>-1.843700</td>\n",
       "      <td>-0.592061</td>\n",
       "      <td>-3.576396</td>\n",
       "      <td>20.204572</td>\n",
       "      <td>3</td>\n",
       "      <td>dsb_ori__003.tif</td>\n",
       "      <td>1</td>\n",
       "    </tr>\n",
       "    <tr>\n",
       "      <th>19481</th>\n",
       "      <td>dsb_ori</td>\n",
       "      <td>-25.158161</td>\n",
       "      <td>-11.568378</td>\n",
       "      <td>-3.893796</td>\n",
       "      <td>-1.280819</td>\n",
       "      <td>0.248843</td>\n",
       "      <td>-2.074659</td>\n",
       "      <td>5.938288</td>\n",
       "      <td>4</td>\n",
       "      <td>dsb_ori__004.tif</td>\n",
       "      <td>1</td>\n",
       "    </tr>\n",
       "  </tbody>\n",
       "</table>\n",
       "</div>"
      ],
      "text/plain": [
       "         label      umap1      umap2      pca1      pca2      pca3      tsne1  \\\n",
       "Id                                                                              \n",
       "18934  dsb_ori -24.996199  -9.605750  1.211045 -5.524436 -1.232248  -9.225296   \n",
       "20234  dsb_ori -19.300940  -8.584076  7.803566  8.098953 -1.003049  14.074796   \n",
       "19857  dsb_ori -23.778135 -10.532851  7.545738 -3.317374 -8.881333  23.258246   \n",
       "18748  dsb_ori -26.319363 -12.872843 -3.493646 -1.843700 -0.592061  -3.576396   \n",
       "19481  dsb_ori -25.158161 -11.568378 -3.893796 -1.280819  0.248843  -2.074659   \n",
       "\n",
       "           tsne2  id          filename  label_id  \n",
       "Id                                                \n",
       "18934   4.219704   0  dsb_ori__000.tif         1  \n",
       "20234 -16.096227   1  dsb_ori__001.tif         1  \n",
       "19857  -1.355110   2  dsb_ori__002.tif         1  \n",
       "18748  20.204572   3  dsb_ori__003.tif         1  \n",
       "19481   5.938288   4  dsb_ori__004.tif         1  "
      ]
     },
     "execution_count": 14,
     "metadata": {},
     "output_type": "execute_result"
    }
   ],
   "source": [
    "data = pd.read_csv(\n",
    "    \"/home/guillaume/AmuBox/Shared/patches/20200504_3groups_l14_dimreduction.txt\",\n",
    "    index_col=0\n",
    ")\n",
    "data.index.name='Id'"
   ]
  },
  {
   "cell_type": "markdown",
   "metadata": {},
   "source": [
    "### Data post-treatment\n",
    "```py\n",
    "ids = data.apply(\n",
    "    lambda d : m.conn.getObject(\n",
    "        \"Image\",\n",
    "        attributes={\"name\": d[\"filename\"]}\n",
    "    ).id,\n",
    "    axis=1\n",
    ")\n",
    "data.set_index(ids, inplace=True)\n",
    "label_id = pd.Categorical(data['label'])\n",
    "data['label_id'] = label_id.codes\n",
    "```"
   ]
  },
  {
   "cell_type": "code",
   "execution_count": 17,
   "metadata": {
    "scrolled": false
   },
   "outputs": [
    {
     "data": {
      "application/vnd.jupyter.widget-view+json": {
       "model_id": "8f2a8e7e9ad648f3a9bb89f115cfca7e",
       "version_major": 2,
       "version_minor": 0
      },
      "text/plain": [
       "ImageScatterViz(children=(OMEConnect(children=(Text(value='', description='OME loggin'), Password(description=…"
      ]
     },
     "metadata": {},
     "output_type": "display_data"
    }
   ],
   "source": [
    "ImageScatterViz(data, x=\"umap1\", y=\"umap2\", c=\"label_id\", host=\"139.124.86.50\")"
   ]
  }
 ],
 "metadata": {
  "kernelspec": {
   "display_name": "Python 3",
   "language": "python",
   "name": "python3"
  },
  "language_info": {
   "codemirror_mode": {
    "name": "ipython",
    "version": 3
   },
   "file_extension": ".py",
   "mimetype": "text/x-python",
   "name": "python",
   "nbconvert_exporter": "python",
   "pygments_lexer": "ipython3",
   "version": "3.7.7"
  }
 },
 "nbformat": 4,
 "nbformat_minor": 4
}
