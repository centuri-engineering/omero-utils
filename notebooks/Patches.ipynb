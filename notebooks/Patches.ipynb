{
 "cells": [
  {
   "cell_type": "code",
   "execution_count": 1,
   "metadata": {},
   "outputs": [],
   "source": [
    "import sys\n",
    "sys.path.append('..')\n",
    "from pathlib import Path\n",
    "import pandas as pd\n",
    "from omero_utils.widgets import ImageScatterViz\n",
    "import warnings\n",
    "warnings.filterwarnings('ignore', 'omero')\n"
   ]
  },
  {
   "cell_type": "code",
   "execution_count": null,
   "metadata": {},
   "outputs": [],
   "source": []
  },
  {
   "cell_type": "code",
   "execution_count": 2,
   "metadata": {},
   "outputs": [],
   "source": [
    "data = pd.read_csv(\n",
    "    \"/home/guillaume/AmuBox/Shared/patches/20200504_3groups_l14_dimreduction.txt\",\n",
    "    index_col=0\n",
    ")\n",
    "data.index.name='Id'"
   ]
  },
  {
   "cell_type": "code",
   "execution_count": 7,
   "metadata": {},
   "outputs": [],
   "source": [
    "ids = data.apply(\n",
    "    lambda d : isv.conn.getObject(\n",
    "        \"Image\",\n",
    "        attributes={\"name\": d[\"filename\"]}\n",
    "    ).id,\n",
    "    axis=1\n",
    ")\n",
    "data.set_index(ids, inplace=True)\n",
    "label_id = pd.Categorical(data['label'])\n",
    "data['label_id'] = label_id.codes"
   ]
  },
  {
   "cell_type": "markdown",
   "metadata": {},
   "source": [
    "### Data post-treatment\n",
    "```py\n",
    "ids = data.apply(\n",
    "    lambda d : m.conn.getObject(\n",
    "        \"Image\",\n",
    "        attributes={\"name\": d[\"filename\"]}\n",
    "    ).id,\n",
    "    axis=1\n",
    ")\n",
    "data.set_index(ids, inplace=True)\n",
    "label_id = pd.Categorical(data['label'])\n",
    "data['label_id'] = label_id.codes\n",
    "```"
   ]
  },
  {
   "cell_type": "code",
   "execution_count": 8,
   "metadata": {
    "scrolled": false
   },
   "outputs": [
    {
     "data": {
      "application/vnd.jupyter.widget-view+json": {
       "model_id": "12f3da80b2f84a8d890ec80e6b793385",
       "version_major": 2,
       "version_minor": 0
      },
      "text/plain": [
       "ImageScatterViz(children=(OMEConnect(children=(Text(value='', description='OME loggin'), Password(description=…"
      ]
     },
     "metadata": {},
     "output_type": "display_data"
    }
   ],
   "source": [
    "isv = ImageScatterViz(data, x=\"umap1\", y=\"umap2\", c=\"label_id\", host=\"139.124.86.50\")\n",
    "isv\n"
   ]
  },
  {
   "cell_type": "code",
   "execution_count": null,
   "metadata": {},
   "outputs": [],
   "source": []
  }
 ],
 "metadata": {
  "kernelspec": {
   "display_name": "Python 3",
   "language": "python",
   "name": "python3"
  },
  "language_info": {
   "codemirror_mode": {
    "name": "ipython",
    "version": 3
   },
   "file_extension": ".py",
   "mimetype": "text/x-python",
   "name": "python",
   "nbconvert_exporter": "python",
   "pygments_lexer": "ipython3",
   "version": "3.7.7"
  }
 },
 "nbformat": 4,
 "nbformat_minor": 4
}
