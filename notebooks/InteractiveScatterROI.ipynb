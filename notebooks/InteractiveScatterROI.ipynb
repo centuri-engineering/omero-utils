{
 "cells": [
  {
   "cell_type": "code",
   "execution_count": 1,
   "metadata": {},
   "outputs": [],
   "source": [
    "from pathlib import Path\n",
    "import pandas as pd\n",
    "from omero_utils.widgets import OMEConnect, ROIScatterViz\n"
   ]
  },
  {
   "cell_type": "code",
   "execution_count": 2,
   "metadata": {},
   "outputs": [
    {
     "data": {
      "application/vnd.jupyter.widget-view+json": {
       "model_id": "0a95ecdc46984d92b693bf85aa75d879",
       "version_major": 2,
       "version_minor": 0
      },
      "text/plain": [
       "OMEConnect(children=(Text(value='', description='OME loggin'), Password(description='OME password'), Button(de…"
      ]
     },
     "metadata": {},
     "output_type": "display_data"
    }
   ],
   "source": [
    "m = OMEConnect(host=\"139.124.81.38\")\n",
    "m"
   ]
  },
  {
   "cell_type": "code",
   "execution_count": 3,
   "metadata": {},
   "outputs": [],
   "source": [
    "conn = m.conn\n",
    "image = conn.getObject(\"Image\", 18651)\n"
   ]
  },
  {
   "cell_type": "code",
   "execution_count": 4,
   "metadata": {},
   "outputs": [],
   "source": [
    "data_dir = Path(\"/home/guillaume/AmuBox/centuribox-guillaume/DataScatterplots/from zong/\")\n",
    "im = Path(image.getName())\n",
    "data_file = data_dir / (im.as_posix()[:-len(im.suffix)]+\".csv\")\n",
    "data = pd.read_csv(data_file)"
   ]
  },
  {
   "cell_type": "code",
   "execution_count": 5,
   "metadata": {},
   "outputs": [
    {
     "data": {
      "application/vnd.jupyter.widget-view+json": {
       "model_id": "299a305a30fc4ecbb77b2d8a177ac565",
       "version_major": 2,
       "version_minor": 0
      },
      "text/plain": [
       "ROIScatterViz(children=(HBox(children=(VBox(children=(HTML(value='<a><h4>x axis</h4></a>'), Dropdown(layout=La…"
      ]
     },
     "metadata": {},
     "output_type": "display_data"
    }
   ],
   "source": [
    "m.conn.connect()\n",
    "sv = ROIScatterViz(m.conn, image, data)\n",
    "sv"
   ]
  },
  {
   "cell_type": "code",
   "execution_count": null,
   "metadata": {},
   "outputs": [],
   "source": []
  }
 ],
 "metadata": {
  "kernelspec": {
   "display_name": "Python 3",
   "language": "python",
   "name": "python3"
  },
  "language_info": {
   "codemirror_mode": {
    "name": "ipython",
    "version": 3
   },
   "file_extension": ".py",
   "mimetype": "text/x-python",
   "name": "python",
   "nbconvert_exporter": "python",
   "pygments_lexer": "ipython3",
   "version": "3.7.6"
  }
 },
 "nbformat": 4,
 "nbformat_minor": 4
}
