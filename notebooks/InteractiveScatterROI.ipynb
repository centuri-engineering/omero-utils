{
 "cells": [
  {
   "cell_type": "code",
   "execution_count": 7,
   "metadata": {},
   "outputs": [],
   "source": [
    "import io\n",
    "import json\n",
    "import base64\n",
    "from functools import partial\n",
    "from pathlib import Path\n",
    "import numpy as np\n",
    "from skimage import draw\n",
    "from skimage.io import imshow\n",
    "\n",
    "import imageio\n",
    "\n",
    "import pandas as pd\n",
    "from bqplot import (\n",
    "    Figure,\n",
    "    Scatter,\n",
    "    LinearScale,\n",
    "    Axis,\n",
    "    Toolbar,\n",
    "    Label,\n",
    "    ColorAxis,\n",
    "    ColorScale,\n",
    "    OrdinalColorScale\n",
    ")\n",
    "import ipywidgets as widgets\n",
    "from IPython.display import display\n",
    "from omero_utils.widgets import OMEConnect\n",
    "from omero_utils.roi_utils import get_roi_thumb, html_thumb\n"
   ]
  },
  {
   "cell_type": "code",
   "execution_count": 2,
   "metadata": {},
   "outputs": [
    {
     "data": {
      "application/vnd.jupyter.widget-view+json": {
       "model_id": "a06d92abaf5c4d30b26fcacc2615ea13",
       "version_major": 2,
       "version_minor": 0
      },
      "text/plain": [
       "OMEConnect(children=(Text(value='', description='OME loggin'), Password(description='OME password'), Button(de…"
      ]
     },
     "metadata": {},
     "output_type": "display_data"
    }
   ],
   "source": [
    "m = OMEConnect(host=\"139.124.81.38\")\n",
    "m"
   ]
  },
  {
   "cell_type": "code",
   "execution_count": 3,
   "metadata": {},
   "outputs": [],
   "source": [
    "conn = m.conn\n",
    "\n",
    "image = conn.getObject(\"Image\", 18651)\n",
    "\n",
    "roi_service = conn.getRoiService()\n",
    "rois = roi_service.findByImage(image.getId(), None).rois\n",
    "roi = rois[0]\n",
    "\n",
    "\n"
   ]
  },
  {
   "cell_type": "code",
   "execution_count": 4,
   "metadata": {},
   "outputs": [],
   "source": [
    "data_dir = Path(\"/home/guillaume/AmuBox/centuribox-guillaume/DataScatterplots/from zong/\")\n",
    "im = Path(image.getName())\n",
    "data_file = data_dir / (im.as_posix()[:-len(im.suffix)]+\".csv\")\n",
    "data = pd.read_csv(data_file)"
   ]
  },
  {
   "cell_type": "code",
   "execution_count": 13,
   "metadata": {},
   "outputs": [],
   "source": [
    "\n",
    "\n",
    "class ScatterViz(widgets.VBox):\n",
    "    \n",
    "    def __init__(self, conn, image, measures, port=4080):\n",
    "        \n",
    "        self.image = image\n",
    "        self.measures = measures\n",
    "        self.sheet = widgets.Output()\n",
    "        self.conn = conn\n",
    "        if not conn.isConnected():\n",
    "            conn.connect()\n",
    "        roi_service = conn.getRoiService()\n",
    "        print(conn.isConnected())\n",
    "        self.rois = roi_service.findByImage(image.getId(), None).rois\n",
    "        self.thumbs = {}\n",
    "        self.goto = widgets.HTML('')\n",
    "        x_sc = LinearScale()\n",
    "        y_sc = LinearScale()\n",
    "        c_sc = ColorScale(scheme=\"viridis\")\n",
    "    \n",
    "        self.scat = Scatter(\n",
    "            x=self.measures[\"Area\"],\n",
    "            y=self.measures[\"Circ.\"],\n",
    "            color=self.measures['AR'],\n",
    "            scales={\n",
    "                \"x\": x_sc,\n",
    "                \"y\": y_sc,\n",
    "                \"color\": c_sc,\n",
    "            },\n",
    "            names=self.measures[\"n_ROI\"],\n",
    "            display_names=False,\n",
    "            fill=True,\n",
    "            default_opacities=[0.8,],\n",
    "        )\n",
    "        ax_x = Axis(\n",
    "            scale=x_sc,\n",
    "            label=\"Area\",\n",
    "            tick_format='0.2f'\n",
    "        )\n",
    "        ax_y = Axis(\n",
    "            scale=y_sc,\n",
    "            label='Circularity',\n",
    "            orientation=\"vertical\"\n",
    "        )\n",
    "    \n",
    "        self.scat.on_element_click(self.goto_db)\n",
    "        self.scat.on_element_click(self.show_data)\n",
    "        self.scat.on_hover(self.show_thumb)\n",
    "        self.scat.tooltip = widgets.HTML(\"\")\n",
    "\n",
    "        self.fig = Figure(\n",
    "            marks=[self.scat,],\n",
    "            axes=[ax_x, ax_y],\n",
    "        )\n",
    "        self.base_url = f\"\"\"http://{self.conn.host}:{port}/webclient/img_detail/{self.image.id}/\"\"\"\n",
    "        super().__init__([self.fig, widgets.HBox([self.goto, self.sheet])])\n",
    "        \n",
    "\n",
    "    def get_thumb(self, idx):\n",
    "        th = self.thumbs.get(idx)\n",
    "        if th is None:\n",
    "            roi = self.rois[idx]\n",
    "            th = html_thumb(get_roi_thumb(self.conn, self.image, roi, draw_roi=True))\n",
    "            self.thumbs[idx] = th\n",
    "        return th\n",
    "        \n",
    "    def show_thumb(self, cbk, target):\n",
    "        name = target['data'][\"name\"]\n",
    "        self.scat.tooltip = widgets.HTML(self.get_thumb(name))\n",
    "        sv.scat.tooltip.style = {\"opacity\": 1.0}\n",
    "        \n",
    "    def goto_db(self, cbk, target):\n",
    "        name = target['data'][\"name\"]\n",
    "        html_ = self.get_thumb(name)\n",
    "        try:\n",
    "            pixel_size = self.image.getPrimaryPixels().getPhysicalSizeX().getValue()\n",
    "        except AttributeError:\n",
    "            pixel_size = 1\n",
    "        current = self.measures.query(f\"n_ROI=={name}\")\n",
    "        xc, yc = int(current.X / pixel_size), int(current.Y / pixel_size)\n",
    "        coords = f\"?x={xc}&y={yc}&zm=400\"\n",
    "        colors = \"&c=1|0:255$FF0000,2|0:255$00FF00,3|0:255$0000FF,-4|0:255$FF0000&m=c\"\n",
    "        url = self.base_url + coords + colors\n",
    "        self.goto.value = (f'<p><hr></p><a href={url} target=\"_blank\">{html_}</a>')\n",
    "\n",
    "    def show_data(self, cbk, target):\n",
    "        self.sheet.clear_output()\n",
    "        name = target['data'][\"name\"]\n",
    "        with self.sheet:\n",
    "            display(self.measures[self.measures[\"n_ROI\"]==name].T)\n",
    "                        \n"
   ]
  },
  {
   "cell_type": "code",
   "execution_count": 14,
   "metadata": {},
   "outputs": [
    {
     "name": "stdout",
     "output_type": "stream",
     "text": [
      "True\n"
     ]
    },
    {
     "data": {
      "application/vnd.jupyter.widget-view+json": {
       "model_id": "5d52cd0fb48542468d03b0cd78a47dc0",
       "version_major": 2,
       "version_minor": 0
      },
      "text/plain": [
       "ScatterViz(children=(Figure(axes=[Axis(label='Area', scale=LinearScale(), tick_format='0.2f'), Axis(label='Cir…"
      ]
     },
     "metadata": {},
     "output_type": "display_data"
    }
   ],
   "source": [
    "m.conn.connect()\n",
    "image = m.conn.getObject(\"Image\", 18651)\n",
    "\n",
    "sv = ScatterViz(m.conn, image, data)\n",
    "sv"
   ]
  },
  {
   "cell_type": "code",
   "execution_count": 77,
   "metadata": {},
   "outputs": [
    {
     "data": {
      "application/vnd.jupyter.widget-view+json": {
       "model_id": "8746b6cc2fdb4a60a1855a7534cbdeba",
       "version_major": 2,
       "version_minor": 0
      },
      "text/plain": [
       "HTML(value='')"
      ]
     },
     "metadata": {},
     "output_type": "display_data"
    }
   ],
   "source": [
    "sv.scat.tooltip\n"
   ]
  },
  {
   "cell_type": "code",
   "execution_count": 62,
   "metadata": {},
   "outputs": [],
   "source": [
    "roi = sv.rois[0]\n"
   ]
  },
  {
   "cell_type": "code",
   "execution_count": 66,
   "metadata": {},
   "outputs": [],
   "source": [
    "roi.getDescription()"
   ]
  },
  {
   "cell_type": "code",
   "execution_count": 70,
   "metadata": {},
   "outputs": [
    {
     "data": {
      "text/plain": [
       "object #0 (::omero::RLong)\n",
       "{\n",
       "    _val = 9201\n",
       "}"
      ]
     },
     "execution_count": 70,
     "metadata": {},
     "output_type": "execute_result"
    }
   ],
   "source": [
    "\n",
    "roi.id"
   ]
  },
  {
   "cell_type": "code",
   "execution_count": null,
   "metadata": {},
   "outputs": [],
   "source": []
  }
 ],
 "metadata": {
  "kernelspec": {
   "display_name": "Python 3",
   "language": "python",
   "name": "python3"
  },
  "language_info": {
   "codemirror_mode": {
    "name": "ipython",
    "version": 3
   },
   "file_extension": ".py",
   "mimetype": "text/x-python",
   "name": "python",
   "nbconvert_exporter": "python",
   "pygments_lexer": "ipython3",
   "version": "3.7.6"
  }
 },
 "nbformat": 4,
 "nbformat_minor": 4
}
